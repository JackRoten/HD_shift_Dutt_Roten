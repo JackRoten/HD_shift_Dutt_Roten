{
 "cells": [
  {
   "cell_type": "code",
   "execution_count": 6,
   "metadata": {
    "collapsed": true
   },
   "outputs": [],
   "source": [
    "from math import pi, asin\n",
    "k=8.99e9\n",
    "e=1.60e-19\n",
    "m_e=9.11e-31\n",
    "m_p=1.6726219e-27\n",
    "h=6.63e-34\n",
    "c=299792485"
   ]
  },
  {
   "cell_type": "code",
   "execution_count": 7,
   "metadata": {},
   "outputs": [
    {
     "name": "stdout",
     "output_type": "stream",
     "text": [
      "0.00121262470831\n"
     ]
    }
   ],
   "source": [
    "# does not match known value... fix\n",
    "Ry=(k*(e**4)*m_e*2*(pi**2)/((h**3)*c))\n",
    "print Ry"
   ]
  },
  {
   "cell_type": "code",
   "execution_count": 8,
   "metadata": {},
   "outputs": [
    {
     "name": "stdout",
     "output_type": "stream",
     "text": [
      "9.10751977703e-31\n"
     ]
    }
   ],
   "source": [
    "#Reduced Mass\n",
    "M = 2*m_p\n",
    "mu = (m_e*M)/(m_e+M)\n",
    "print mu"
   ]
  },
  {
   "cell_type": "markdown",
   "metadata": {},
   "source": [
    "(1a)\n",
    "\n",
    "Use: $$2\\pi(m_erv^2) = nh \\;\\;\\;(1)$$  and $$\\frac{ke^2}{r^2} = \\frac{m_ev^2}{r} \\;\\;\\; (2)$$ \n",
    "\n",
    "set $$v^2 = \\frac{nh}{2\\pi m_ev} \\;\\;\\; (3)$$\n",
    "and sub into (2) to get:\n",
    "\n",
    "$$r = \\frac{n^2\\hbar^2}{m_eke^2} \\;\\;\\; (4)$$ "
   ]
  },
  {
   "cell_type": "markdown",
   "metadata": {},
   "source": [
    "(1b)\n",
    "Use: \n",
    "$$E = T + U = \\frac{1}{2}m_ev^2 + \\frac{ke^2}{r} \\;\\;\\; (4)$$\n",
    "\n",
    "and sub (3) into (4) to get a total energy of:\n",
    "$$E = \\frac{-k^2e^4m_e}{2n^2\\hbar^2} \\;\\;\\;(5)$$\n"
   ]
  },
  {
   "cell_type": "markdown",
   "metadata": {},
   "source": [
    "(1c)\n",
    "using (5) we can conldude that:\n",
    "$$ Ry = \\frac{2\\pi^2 ke^4m_e}{h^3c} \\;\\;\\; (6)$$\n",
    "\n",
    "$$E = -Ryhc\\Bigg(\\frac{1}{n^2}\\Bigg) \\;\\;\\;(7)$$\n",
    "\n",
    "\n",
    "\n",
    "and $$[Ry] = m^{-1}$$"
   ]
  },
  {
   "cell_type": "markdown",
   "metadata": {},
   "source": [
    "(1d)The numerical result of E as a function of n is:\n",
    "\n",
    "$$E(n) = 1.097x10^7\\Bigg(\\frac{1}{n^2}\\Bigg) \\; J$$\n",
    "\n",
    "and\n",
    "$$E(n) = 13.7\\Bigg(\\frac{1}{n^2}\\Bigg) \\; eV$$\n",
    "\n"
   ]
  },
  {
   "cell_type": "markdown",
   "metadata": {},
   "source": [
    "(2) \n",
    "\n",
    "using:\n",
    "$$E = \\frac{hc}{\\lambda}$$\n",
    "and \n",
    "$$\\frac{1}{\\lambda} = \\frac{|E_f - E_i|}{hc}$$\n",
    "sub in (7) to achieve:\n",
    "\n",
    "$$\\frac{1}{\\lambda} = -Ry\\Bigg(\\frac{1}{n_f^2} - \\frac{1}{n_i^2}\\Bigg)$$\n"
   ]
  },
  {
   "cell_type": "code",
   "execution_count": 9,
   "metadata": {},
   "outputs": [
    {
     "name": "stdout",
     "output_type": "stream",
     "text": [
      "-4.33936752764e-07\n",
      "-4.34054925431e-07\n",
      "1.18172667047e-10\n"
     ]
    }
   ],
   "source": [
    "#balmer series for hydrogen and dueterium\n",
    "\n",
    "Ryd=1.097373e7 #[1/m]\n",
    "n2=2\n",
    "n3=3\n",
    "n4=4\n",
    "n5=5\n",
    "n6=6\n",
    "n7=7\n",
    "n8=8\n",
    "Hwave= (Ryd*((1.0/n5**2)-(1.0/n2**2)))**(-1)\n",
    "print Hwave\n",
    "Dwave= ((mu/m_e)*Ryd*((1.0/n5**2)-(1.0/n2**2)))**(-1)\n",
    "print Dwave\n",
    "print Hwave - Dwave"
   ]
  },
  {
   "cell_type": "code",
   "execution_count": 10,
   "metadata": {
    "scrolled": true
   },
   "outputs": [
    {
     "name": "stdout",
     "output_type": "stream",
     "text": [
      "(6.561123701785993e-07, 6.562910472511739e-07, -1.786770725745877e-10) \n",
      "(4.860091630952587e-07, 4.86141516482351e-07, -1.323533870923107e-10) \n",
      "(4.3393675276362387e-07, 4.3405492543067054e-07, -1.1817266704666817e-10) \n",
      "(4.100702313616246e-07, 4.1018190453198366e-07, -1.116731703590776e-10) \n",
      "(3.969074831944613e-07, 3.9701557179392e-07, -1.0808859945868159e-10) \n",
      "(3.8880733047620695e-07, 3.889132131858808e-07, -1.0588270967385915e-10)\n"
     ]
    }
   ],
   "source": [
    "## Exercise 3 \n",
    "# Calculations fro the first 6 balmer series for hydrogen and dueterium:\n",
    "\n",
    "import balmer as B\n",
    "\n",
    "Balmer1 = B.HDBalmer(3,2)\n",
    "Balmer2 = B.HDBalmer(4,2)\n",
    "Balmer3 = B.HDBalmer(5,2)\n",
    "Balmer4 = B.HDBalmer(6,2)\n",
    "Balmer5 = B.HDBalmer(7,2)\n",
    "Balmer6 = B.HDBalmer(8,2)\n",
    "print Balmer1,'\\n', Balmer2,'\\n', Balmer3,'\\n', Balmer4,'\\n', Balmer5,'\\n', Balmer6"
   ]
  },
  {
   "cell_type": "code",
   "execution_count": 37,
   "metadata": {},
   "outputs": [
    {
     "name": "stdout",
     "output_type": "stream",
     "text": [
      "1.05882709674e-10\n"
     ]
    }
   ],
   "source": [
    "## Exercise 4 \n",
    "# What minimum resolution in Angstrom will be needed to distinguish the sixth \n",
    "# wavelength of H and of D\n",
    "\n",
    "print Balmer6[2]*-1\n"
   ]
  },
  {
   "cell_type": "code",
   "execution_count": null,
   "metadata": {
    "collapsed": true
   },
   "outputs": [],
   "source": []
  },
  {
   "cell_type": "code",
   "execution_count": 24,
   "metadata": {},
   "outputs": [
    {
     "name": "stdout",
     "output_type": "stream",
     "text": [
      "power of lamp through slit one is 0.000795774715459 Watts\n",
      "power of lamp through PMT slit is 7.95774715459e-07 Watts\n"
     ]
    }
   ],
   "source": [
    "## Exercise 8\n",
    "#(a) \n",
    "# Power through slits is a fraction of slit surface area to sphere surface\n",
    "# area.\n",
    "\n",
    "PTot = 100 # [Watts]\n",
    "\n",
    "#can approcimate as\n",
    "theta1 = 1e-3\n",
    "phi1 = 0.1\n",
    "length1 = 0.01 #[m]\n",
    "Surface1 = 4*pi*length1**2\n",
    "\n",
    "arcLength1 = length*theta1 # [meter]\n",
    "arcLength2 = length*phi1 # [meter]\n",
    "\n",
    "surfaceArea = arcLength1*arcLength2 # [m^2] \n",
    "\n",
    "PSlit1 = PTot*surfaceArea/Surface1\n",
    "print 'power of lamp through slit one is', PSlit1, 'Watts'\n",
    "\n",
    "#(b)\n",
    "# assume same slit dimensions, assume we take a fraction of the light from \n",
    "# original source again, essentially moving the first slit an additional meter\n",
    "# away\n",
    "\n",
    "theta2 = 10e-6\n",
    "phi2 = 0.01\n",
    "length2PMT = 1.01 #[m]\n",
    "arcLength1PMT = length2PMT*theta2 # [meter]\n",
    "arcLength2PMT = length2PMT*phi2 # [meter]\n",
    "Surface2 = 4*pi*length2PMT**2\n",
    "\n",
    "\n",
    "surfaceAreaPMT = arcLength1PMT*arcLength2PMT # [m^2]\n",
    "PSlit2 = PTot*surfaceAreaPMT/Surface2\n",
    "print 'power of lamp through PMT slit is', PSlit2, 'Watts'\n"
   ]
  },
  {
   "cell_type": "code",
   "execution_count": 35,
   "metadata": {},
   "outputs": [
    {
     "name": "stdout",
     "output_type": "stream",
     "text": [
      "3.9752483511e-19\n",
      "4.9954444064e-13\n",
      "2.00182389923e+12 Photons/second hit the PMT.\n"
     ]
    }
   ],
   "source": [
    "# (c)\n",
    "# photons per second is\n",
    "# P~E/t\n",
    "\n",
    "second = 1 #[s]\n",
    "wavelength = 5000e-10\n",
    "\n",
    "#wavelength = h*c/(second*PSlit2)\n",
    "#print wavelength\n",
    "\n",
    "#energy of one photon:\n",
    "E = h*c/wavelengthr\n",
    "PPhoton = E/second \n",
    "print P\n",
    "# there is P energy in one photon so the fraction on of the lamps Power through\n",
    "# slit 2 and a single photon's power will tell us how many photons per second \n",
    "# hit the PMT\n",
    "\n",
    "powerFrac = PSlit2/PPhoton\n",
    "print powerFrac , 'Photons/second hit the PMT.'"
   ]
  },
  {
   "cell_type": "code",
   "execution_count": 34,
   "metadata": {},
   "outputs": [
    {
     "name": "stdout",
     "output_type": "stream",
     "text": [
      "2.00182389923e+19 Amps\n"
     ]
    }
   ],
   "source": [
    "# (d)\n",
    "# with photons per second \n",
    "I = powerFrac*1e7/second # [Columbs/second], [Amps]\n",
    "print I , 'Amps'\n"
   ]
  },
  {
   "cell_type": "markdown",
   "metadata": {},
   "source": [
    "Resolution of picoameter needs to have at least"
   ]
  },
  {
   "cell_type": "markdown",
   "metadata": {},
   "source": [
    "(9) The current read on the Picoameter is from the PMT\n",
    "The max level of the signal is 42V"
   ]
  },
  {
   "cell_type": "markdown",
   "metadata": {
    "collapsed": true
   },
   "source": [
    "(10a)\n",
    "-1.5 nA to .15 V\n",
    "amplifies signal to 10^-8\n",
    "-1nA to \n",
    "-.097V ~ .1V : amplifies signal as 10-8 as \n",
    "\n",
    "Current output(nA)   Voltage Output(V)\n",
    "        0               0\n",
    "        .5             .5\n",
    "        1              1\n",
    "        2              2\n",
    "        2.5            2.5\n",
    "       \n",
    "10(b)\n",
    "Changing the y-axis maximum to 1V does not change the value of the trace. \n",
    "Changing the picometer scale to 20nA will \n",
    "\n",
    "\n",
    "Current output(nA)   Voltage Output(V)\n",
    "        0               0\n",
    "        .5             .05\n",
    "        1              .1\n",
    "        2              .2\n",
    "        2.5            .25\n",
    "\n",
    "10(c)\n",
    "for the following currents:\n",
    "1   \n",
    "5  \n",
    "9\n",
    "20\n",
    "\n",
    "Use the settings 20nA and recorder y-axis scale setting of 3.0V"
   ]
  }
 ],
 "metadata": {
  "kernelspec": {
   "display_name": "Python 3",
   "language": "python",
   "name": "python3"
  },
  "language_info": {
   "codemirror_mode": {
    "name": "ipython",
    "version": 3
   },
   "file_extension": ".py",
   "mimetype": "text/x-python",
   "name": "python",
   "nbconvert_exporter": "python",
   "pygments_lexer": "ipython3",
   "version": "3.7.1"
  }
 },
 "nbformat": 4,
 "nbformat_minor": 2
}
