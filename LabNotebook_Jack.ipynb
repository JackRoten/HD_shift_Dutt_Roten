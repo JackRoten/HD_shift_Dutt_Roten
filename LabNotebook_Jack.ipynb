{
 "cells": [
  {
   "cell_type": "markdown",
   "metadata": {},
   "source": [
    "1/24 redoing measurements do get greater averafes \n",
    "\n",
    "1:58pm:  486nm at 5Ang/min using H setting for scan\n",
    "entry slit: 30um\n",
    "and PMT slit: 30um\n",
    "took 5 measurements\n",
    "\n",
    "2:10pm:  656 5Ang/min picoameter is is wt 0.xxxxx uA\n",
    "enty slit: 30um\n",
    "PMT slit: 30um\n",
    "\n",
    "taking multiple measurements\n",
    "5\n",
    "\n",
    "2:29pm:  434nm 5 Ang/min picoameter at 00.xxxx uA\n",
    "30um and 30um was to small for s\n",
    "\n",
    "entry slit at 30um\n",
    "PMT slit at 40um \n",
    "taking 5 measurements\n",
    "\n",
    "2:45pm\n",
    "picaometer is set at 00.xxxx nm\n",
    "\n",
    "\n",
    "looking at values for problem 10(a)\n",
    "-1.5 nA to .15 V\n",
    "amplifies signal to 10^-8\n",
    "-1nA to \n",
    "-.097V ~ .1V : amplifies signal as 10-8 as \n",
    "\n",
    "Current output(nA)   Voltage Output(V)\n",
    "        0               0\n",
    "        .5             .5\n",
    "        1              1\n",
    "        2              2\n",
    "        2.5            2.5\n",
    "       \n",
    "10(b)\n",
    "Changing the y-axis maximum to 1V does not change the value of the trace. \n",
    "Changing the picometer scale to 20nA will \n",
    "\n",
    "\n",
    "Current output(nA)   Voltage Output(V)\n",
    "        0               0\n",
    "        .5             .05\n",
    "        1              .1\n",
    "        2              .2\n",
    "        2.5            .25\n",
    "\n",
    "10(c)\n",
    "for the following currents:\n",
    "1   \n",
    "5  \n",
    "9\n",
    "20\n",
    "\n",
    "Use the settings 20nA and recorder y-axis scale setting of 3.0V\n",
    "\n",
    "\n",
    "3:28pm: 397nm \n",
    "entry slit: 90um\n",
    "PMT slit: 40um\n",
    "measurements: |||||\n",
    "\n",
    "3:40pm logger screwed up\n",
    "\n",
    "3:45pm restarted logging software and aquired data once more\n",
    "\n",
    "3:48pm 388nm\n",
    "entry slit: 90um\n",
    "PMT slit: 50um\n",
    "|||||\n",
    "\n",
    "\n",
    "4:26pm\n",
    "\n",
    "\n",
    "The current read on the Picoameter is from the PMT\n",
    "The max level of the signal is 42V "
   ]
  },
  {
   "cell_type": "markdown",
   "metadata": {
    "collapsed": true
   },
   "source": [
    "## Exercises\n"
   ]
  },
  {
   "cell_type": "code",
   "execution_count": null,
   "metadata": {},
   "outputs": [],
   "source": []
  }
 ],
 "metadata": {
  "kernelspec": {
   "display_name": "Python 3",
   "language": "python",
   "name": "python3"
  },
  "language_info": {
   "codemirror_mode": {
    "name": "ipython",
    "version": 3
   },
   "file_extension": ".py",
   "mimetype": "text/x-python",
   "name": "python",
   "nbconvert_exporter": "python",
   "pygments_lexer": "ipython3",
   "version": "3.7.1"
  }
 },
 "nbformat": 4,
 "nbformat_minor": 2
}
