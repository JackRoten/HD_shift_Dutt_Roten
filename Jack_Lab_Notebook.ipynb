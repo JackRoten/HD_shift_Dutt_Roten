{
 "cells": [
  {
   "cell_type": "markdown",
   "metadata": {},
   "source": [
    "# Jack Lab Notebook\n",
    "## Contents:\n",
    "1. Exercise Solutions\n",
    "\n",
    "2. In lab notebook\n"
   ]
  },
  {
   "cell_type": "markdown",
   "metadata": {},
   "source": [
    "## Excecise Solutions\n"
   ]
  },
  {
   "cell_type": "code",
   "execution_count": 1,
   "metadata": {},
   "outputs": [],
   "source": [
    "#Imports\n",
    "from math import pi, asin\n",
    "k=8.99e9\n",
    "e=1.60e-19\n",
    "m_e=9.11e-31\n",
    "m_p=1.6726219e-27\n",
    "h=6.63e-34\n",
    "c=299792485"
   ]
  },
  {
   "cell_type": "markdown",
   "metadata": {},
   "source": [
    "## Exercise 1"
   ]
  },
  {
   "cell_type": "markdown",
   "metadata": {},
   "source": [
    "(1a)\n",
    "\n",
    "Use: $$2\\pi(m_erv^2) = nh \\;\\;\\;(1)$$  and $$\\frac{ke^2}{r^2} = \\frac{m_ev^2}{r} \\;\\;\\; (2)$$ \n",
    "\n",
    "set $$v^2 = \\frac{nh}{2\\pi m_ev} \\;\\;\\; (3)$$\n",
    "and sub into (2) to get:\n",
    "\n",
    "$$r = \\frac{n^2\\hbar^2}{m_eke^2} \\;\\;\\; (4)$$ "
   ]
  },
  {
   "cell_type": "markdown",
   "metadata": {},
   "source": [
    "(1b)\n",
    "Use: \n",
    "$$E = T + U = \\frac{1}{2}m_ev^2 + \\frac{ke^2}{r} \\;\\;\\; (4)$$\n",
    "\n",
    "and sub (3) into (4) to get a total energy of:\n",
    "$$E = \\frac{-k^2e^4m_e}{2n^2\\hbar^2} \\;\\;\\;(5)$$\n"
   ]
  },
  {
   "cell_type": "markdown",
   "metadata": {},
   "source": [
    "(1c)\n",
    "using (5) we can conldude that:\n",
    "$$ Ry = \\frac{2\\pi^2 ke^4m_e}{h^3c} \\;\\;\\; (6)$$\n",
    "\n",
    "$$E = -Ryhc\\Bigg(\\frac{1}{n^2}\\Bigg) \\;\\;\\;(7)$$\n",
    "\n",
    "\n",
    "\n",
    "and $$[Ry] = m^{-1}$$"
   ]
  },
  {
   "cell_type": "markdown",
   "metadata": {},
   "source": [
    "(1d)The numerical result of E as a function of n is:\n",
    "\n",
    "$$E(n) = 1.097x10^7\\Bigg(\\frac{1}{n^2}\\Bigg) \\; J$$\n",
    "\n",
    "and\n",
    "$$E(n) = 13.7\\Bigg(\\frac{1}{n^2}\\Bigg) \\; eV$$\n",
    "\n"
   ]
  },
  {
   "cell_type": "markdown",
   "metadata": {},
   "source": [
    "## Exercise 2"
   ]
  },
  {
   "cell_type": "markdown",
   "metadata": {},
   "source": [
    "(2) \n",
    "\n",
    "using:\n",
    "$$E = \\frac{hc}{\\lambda}$$\n",
    "and \n",
    "$$\\frac{1}{\\lambda} = \\frac{|E_f - E_i|}{hc}$$\n",
    "sub in (7) to achieve:\n",
    "\n",
    "$$\\frac{1}{\\lambda} = -Ry\\Bigg(\\frac{1}{n_f^2} - \\frac{1}{n_i^2}\\Bigg)$$\n"
   ]
  },
  {
   "cell_type": "markdown",
   "metadata": {},
   "source": [
    "## Exercise 3 "
   ]
  },
  {
   "cell_type": "code",
   "execution_count": 2,
   "metadata": {
    "scrolled": true
   },
   "outputs": [
    {
     "name": "stdout",
     "output_type": "stream",
     "text": [
      "(6.561123701785993e-07, 6.562910472511739e-07, -1.786770725745877e-10) \n",
      " (4.860091630952587e-07, 4.86141516482351e-07, -1.323533870923107e-10) \n",
      " (4.3393675276362387e-07, 4.3405492543067054e-07, -1.1817266704666817e-10) \n",
      " (4.100702313616246e-07, 4.1018190453198366e-07, -1.116731703590776e-10) \n",
      " (3.969074831944613e-07, 3.9701557179392e-07, -1.0808859945868159e-10) \n",
      " (3.8880733047620695e-07, 3.889132131858808e-07, -1.0588270967385915e-10)\n"
     ]
    }
   ],
   "source": [
    "# Calculations for the first 6 balmer series for hydrogen and dueterium:\n",
    "\n",
    "import balmer as B\n",
    "\n",
    "Balmer1 = B.HDBalmer(3,2)\n",
    "Balmer2 = B.HDBalmer(4,2)\n",
    "Balmer3 = B.HDBalmer(5,2)\n",
    "Balmer4 = B.HDBalmer(6,2)\n",
    "Balmer5 = B.HDBalmer(7,2)\n",
    "Balmer6 = B.HDBalmer(8,2)\n",
    "print (Balmer1,'\\n', Balmer2,'\\n', Balmer3,'\\n', Balmer4,'\\n', Balmer5,'\\n', Balmer6)"
   ]
  },
  {
   "cell_type": "markdown",
   "metadata": {},
   "source": [
    "## Exercise 4"
   ]
  },
  {
   "cell_type": "code",
   "execution_count": 3,
   "metadata": {},
   "outputs": [
    {
     "name": "stdout",
     "output_type": "stream",
     "text": [
      "1.0588270967385915e-10 Angstroms min resolution\n"
     ]
    }
   ],
   "source": [
    "# What minimum resolution in Angstrom will be needed to distinguish the sixth \n",
    "# wavelength of H and of D\n",
    "print (Balmer6[2]*-1, \"Angstroms min resolution\")\n"
   ]
  },
  {
   "cell_type": "markdown",
   "metadata": {},
   "source": [
    "## Exercise 5"
   ]
  },
  {
   "cell_type": "markdown",
   "metadata": {},
   "source": [
    "We will do calibration measurement. It is better to do tis doublet measurement with larger wavelength aso the spacing is more visible and easy to calibtrate. Trying to find double with poor resolution spectrometery would make this very difficult.\n",
    "\n"
   ]
  },
  {
   "cell_type": "markdown",
   "metadata": {},
   "source": [
    "## Exercie 6 "
   ]
  },
  {
   "cell_type": "markdown",
   "metadata": {},
   "source": [
    "It is better because the speed at which the motor revoloves may be different inother directions. Al;so, it is good to have consistency as there may be some mechanical anomaly that could disrupt the system. If the error is propogated in the same direction it is possible to get a good idea of what the error might be."
   ]
  },
  {
   "cell_type": "markdown",
   "metadata": {},
   "source": [
    "## Exercise 7"
   ]
  },
  {
   "cell_type": "markdown",
   "metadata": {},
   "source": [
    "With larger slit size, we allow more unfocused light which could contribute noise from non signal light sources such as lamps, sun etc. Further Having a very large slit size would allow a solid angle such that the incming light could interact with other components that it should not, disrupting the system,"
   ]
  },
  {
   "cell_type": "markdown",
   "metadata": {},
   "source": [
    "## Exercise 8\n"
   ]
  },
  {
   "cell_type": "code",
   "execution_count": 4,
   "metadata": {},
   "outputs": [
    {
     "name": "stdout",
     "output_type": "stream",
     "text": [
      "power of lamp through slit one is 0.0007957747154594767 Watts\n",
      "power of lamp through PMT slit is 7.957747154594768e-07 Watts\n"
     ]
    }
   ],
   "source": [
    "#(a) \n",
    "# Power through slits is a fraction of slit surface area to sphere surface\n",
    "# area.\n",
    "\n",
    "PTot = 100 # [Watts]\n",
    "\n",
    "#can approcimate as\n",
    "theta1 = 1e-3\n",
    "phi1 = 0.1\n",
    "length1 = 0.01 #[m]\n",
    "Surface1 = 4*pi*length1**2\n",
    "\n",
    "arcLength1 = length1*theta1 # [meter]\n",
    "arcLength2 = length1*phi1 # [meter]\n",
    "\n",
    "surfaceArea = arcLength1*arcLength2 # [m^2] \n",
    "\n",
    "PSlit1 = PTot*surfaceArea/Surface1\n",
    "print ('power of lamp through slit one is', PSlit1, 'Watts')\n",
    "\n",
    "#(b)\n",
    "# assume same slit dimensions, assume we take a fraction of the light from \n",
    "# original source again, essentially moving the first slit an additional meter\n",
    "# away\n",
    "\n",
    "theta2 = 10e-6\n",
    "phi2 = 0.01\n",
    "length2PMT = 1.01 #[m]\n",
    "arcLength1PMT = length2PMT*theta2 # [meter]\n",
    "arcLength2PMT = length2PMT*phi2 # [meter]\n",
    "Surface2 = 4*pi*length2PMT**2\n",
    "\n",
    "\n",
    "surfaceAreaPMT = arcLength1PMT*arcLength2PMT # [m^2]\n",
    "PSlit2 = PTot*surfaceAreaPMT/Surface2\n",
    "print ('power of lamp through PMT slit is', PSlit2, 'Watts')\n"
   ]
  },
  {
   "cell_type": "code",
   "execution_count": 5,
   "metadata": {},
   "outputs": [
    {
     "name": "stdout",
     "output_type": "stream",
     "text": [
      "3.9752483511000003e-19 J \n",
      "2001823899227.0159 Photons/second hit the PMT.\n"
     ]
    }
   ],
   "source": [
    "# (c)\n",
    "# photons per second is\n",
    "# P~E/t\n",
    "\n",
    "second = 1 #[s]\n",
    "wavelength = 5000e-10\n",
    "\n",
    "#wavelength = h*c/(second*PSlit2)\n",
    "#print wavelength\n",
    "\n",
    "#energy of one photon:\n",
    "E = h*c/wavelength\n",
    "PPhoton = E/second \n",
    "print(PPhoton, 'J ')\n",
    "# there is P energy in one photon so the fraction on of the lamps Power through\n",
    "# slit 2 and a single photon's power will tell us how many photons per second \n",
    "# hit the PMT\n",
    "\n",
    "powerFrac = PSlit2/PPhoton\n",
    "print(powerFrac , 'Photons/second hit the PMT.')"
   ]
  },
  {
   "cell_type": "code",
   "execution_count": 6,
   "metadata": {},
   "outputs": [
    {
     "name": "stdout",
     "output_type": "stream",
     "text": [
      "3.202918238763225 Amps\n"
     ]
    }
   ],
   "source": [
    "#(d)\n",
    "# with photons per second\n",
    "echarge = 1.6e-19\n",
    "I = powerFrac*echarge*1e7/second # [Columbs/second], [Amps]\n",
    "print(I , 'Amps')\n"
   ]
  },
  {
   "cell_type": "markdown",
   "metadata": {},
   "source": [
    "Resolution of picoameter needs to have at least go up to 10 amps."
   ]
  },
  {
   "cell_type": "markdown",
   "metadata": {},
   "source": [
    "## Exercise 9"
   ]
  },
  {
   "cell_type": "markdown",
   "metadata": {},
   "source": [
    "The current read on the Picoameter is from the PMT\n",
    "The max level of the signal is 42V."
   ]
  },
  {
   "cell_type": "markdown",
   "metadata": {},
   "source": [
    "## Exercise 10"
   ]
  },
  {
   "cell_type": "markdown",
   "metadata": {
    "collapsed": true
   },
   "source": [
    "(a)\n",
    "1.5 nA to .15 V amplifies signal, scaled as $$10^{-8}$$\n",
    "1nA to ~ .1V  inturn amplifing signal as:\n",
    "        \n",
    "| Current Output(nA) |Voltage Output(V)   |\n",
    "|------|------|\n",
    "|   0  |  0|\n",
    "|   .5  | .5|\n",
    "|   1 | 1|\n",
    "|   2  | 2|\n",
    "|   2.5  | 2.5|\n",
    "       \n",
    "(b)\n",
    "Changing the y-axis maximum to 1V does not change the value of the trace. \n",
    "Changing the picometer scale to 20nA will the output voltage like:\n",
    "\n",
    "\n",
    "| Current Output(nA) |Voltage Output(V)   |\n",
    "|------|------|\n",
    "|   0  |  0|\n",
    "|   .5  | .05|\n",
    "|   1 | .1|\n",
    "|   2  | .2|\n",
    "|   2.5  | .25|\n",
    "       \n",
    "\n",
    "10(c)\n",
    "for the following currents:\n",
    "\n",
    "1nA\n",
    "\n",
    "5nA\n",
    "\n",
    "9nA\n",
    "\n",
    "20nA\n",
    "\n",
    "Use the settings 20nA and recorder y-axis scale setting of 3.0V"
   ]
  },
  {
   "cell_type": "markdown",
   "metadata": {},
   "source": [
    "## In Lab Notebook"
   ]
  },
  {
   "cell_type": "markdown",
   "metadata": {},
   "source": [
    "#### Initial setup, Calibration, and first measurements\n",
    "\n",
    "Date: 1/15/19, afternoon:\n",
    "\n",
    "1:58 Spectrometer Calibration. Entry slit and PMT slit are open to 30 microns\n",
    "\n",
    "2:03 PicoAmmeter initial setup Following initial setup steps, following device instructions. Dark current is recorded to be 0.390 +/- 0.100nA.\n",
    "\n",
    "2:21 Change spectrometer wavelength to 6263 Angstroms and have about 0.38Volts on logger program.\n",
    "\n",
    "2:40 Starting at 6263 Angstrom and increasing wavlength by 5 Ang/min\n",
    "\n",
    "\n",
    "2:59 Data for doublet peaks imported into python and Ang/min set to 5 allows us to resolve clear peaks to be approx 0.8Ang\n",
    "\n",
    "3:10 2nd trail of Hg doublet, wish to aquire better resolution, set entry slit to position 2: 10microns and PMT slit to 20microns. Lower power but better looking peak resolution.\n",
    "\n",
    "3:30 Found logger to have a ~9.9Ang distance between the known 6251.4Ang and 6263.0Ang, this is the factor with which we must scale our future data.\n",
    "\n",
    "3:31 Changed slit size to entry: 30microns, PMT 40microns\n",
    "\n",
    "Started Data collection:\n",
    "slit configurations are given next to transition and are in microns.\n",
    "5:10 3 --> 2: Slit1:30  , Slit2:40\n",
    "\n",
    "5:16 4 --> 2: Slit1:30  , Slit2:40 lowered picoameter to 00.xxxx\n",
    "\n",
    "5:26 5 --> 2: Slit1:30  , Slit2:40 lowerd picoameter to 0.xxxxx\n",
    "\n",
    "5:35 6 --> 2: Slit1:90  , Slit2:30\n",
    "\n",
    "5:41 7 --> 2: Slit1:90  , Slit2:30\n",
    "\n",
    "\n",
    "\n"
   ]
  },
  {
   "cell_type": "markdown",
   "metadata": {},
   "source": [
    "#### FInish Taking Data and Data Analysis Day\n",
    "\n",
    "Date 1/17/19, Afternoon:\n",
    "\n",
    "2:15 8 --> 2 first measurment: Slit1:90  , Slit2:40. peaks too small\n",
    "\n",
    "2:25 8 --> 2 second measurement: Slit1:90  , Slit2:50. peaks \n",
    "\n",
    "2:29 Moved HD tube for better, more intense signal\n",
    "\n",
    "2:55 Turned off lights to see if this will minimize noise. No possitive affects.\n",
    "\n",
    "3:00pm attempt using data analysis tools shown in day1.pynb python notebook."
   ]
  },
  {
   "cell_type": "markdown",
   "metadata": {},
   "source": [
    "#### Data Analysis Day Two\n",
    "Date: 1/22/19\n",
    "\n",
    "implemented methods in witch to curve fit data, in turn cleaning it up. Used cleaned up data and anaylized peak shifts. This process can be found in Data analysis python notebooks.\n",
    "\n",
    "For example of code used to fit data: look at Data_Analysis_410.py"
   ]
  },
  {
   "cell_type": "markdown",
   "metadata": {},
   "source": [
    "#### redoing measurements do get greater averages \n",
    "Date: 1/24/19 \n",
    "Afternoon\n",
    "\n",
    "1:58  486nm at 5Ang/min using H setting for scan\n",
    "entry slit: 30um\n",
    "and PMT slit: 30um\n",
    "took 5 measurements\n",
    "\n",
    "2:10  656 5Ang/min picoameter is is wt 0.xxxxx uA\n",
    "enty slit: 30um\n",
    "PMT slit: 30um\n",
    "\n",
    "taking multiple measurements\n",
    "5\n",
    "\n",
    "2:29:  434nm 5 Ang/min picoameter at 00.xxxx uA\n",
    "30um and 30um was to small for s\n",
    "\n",
    "entry slit at 30um\n",
    "PMT slit at 40um \n",
    "taking 5 measurements\n",
    "\n",
    "2:45\n",
    "picaometer is set at 00.xxxx nm\n",
    "\n",
    "\n",
    "looking at values for problem 10(a)\n",
    "-1.5 nA to .15 V\n",
    "amplifies signal to 10^-8\n",
    "-1nA to \n",
    "-.097V ~ .1V : amplifies signal as 10-8 as \n",
    "\n",
    "Current output(nA)   Voltage Output(V)\n",
    "        0               0\n",
    "        .5             .5\n",
    "        1              1\n",
    "        2              2\n",
    "        2.5            2.5\n",
    "       \n",
    "10(b)\n",
    "Changing the y-axis maximum to 1V does not change the value of the trace. \n",
    "Changing the picometer scale to 20nA will \n",
    "\n",
    "\n",
    "Current output(nA)   Voltage Output(V)\n",
    "        0               0\n",
    "        .5             .05\n",
    "        1              .1\n",
    "        2              .2\n",
    "        2.5            .25\n",
    "\n",
    "10(c)\n",
    "for the following currents:\n",
    "1   \n",
    "5  \n",
    "9\n",
    "20\n",
    "\n",
    "Use the settings 20nA and recorder y-axis scale setting of 3.0V\n",
    "\n",
    "\n",
    "3:28pm: 397nm \n",
    "entry slit: 90um\n",
    "PMT slit: 40um\n",
    "measurements: |||||\n",
    "\n",
    "3:40pm logger screwed up\n",
    "\n",
    "3:45pm restarted logging software and aquired data once more\n",
    "\n",
    "3:48pm 388nm\n",
    "entry slit: 90um\n",
    "PMT slit: 50um\n",
    "|||||\n",
    "\n",
    "\n",
    "4:26pm\n",
    "\n",
    "\n",
    "The current read on the Picoameter is from the PMT\n",
    "The max level of the signal is 42V "
   ]
  },
  {
   "cell_type": "code",
   "execution_count": null,
   "metadata": {},
   "outputs": [],
   "source": []
  }
 ],
 "metadata": {
  "kernelspec": {
   "display_name": "Python 3",
   "language": "python",
   "name": "python3"
  },
  "language_info": {
   "codemirror_mode": {
    "name": "ipython",
    "version": 3
   },
   "file_extension": ".py",
   "mimetype": "text/x-python",
   "name": "python",
   "nbconvert_exporter": "python",
   "pygments_lexer": "ipython3",
   "version": "3.7.1"
  }
 },
 "nbformat": 4,
 "nbformat_minor": 2
}
