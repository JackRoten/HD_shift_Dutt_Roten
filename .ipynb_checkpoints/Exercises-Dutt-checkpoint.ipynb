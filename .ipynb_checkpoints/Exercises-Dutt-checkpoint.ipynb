{
 "cells": [
  {
   "cell_type": "code",
   "execution_count": null,
   "metadata": {
    "collapsed": true
   },
   "outputs": [],
   "source": []
  },
  {
   "cell_type": "code",
   "execution_count": 58,
   "metadata": {
    "collapsed": true
   },
   "outputs": [],
   "source": [
    "import numpy as np\n",
    "import pandas as pd\n",
    "import matplotlib.pyplot as plt"
   ]
  },
  {
   "cell_type": "markdown",
   "metadata": {},
   "source": [
    "$\\dfrac{}{\\lambda} = R \\dfrac{\\mu}{m_e}(\\frac{1}{n_1^2} - \\frac{1}{n_2^2} ) $"
   ]
  },
  {
   "cell_type": "code",
   "execution_count": null,
   "metadata": {
    "collapsed": true
   },
   "outputs": [],
   "source": []
  },
  {
   "cell_type": "code",
   "execution_count": 83,
   "metadata": {
    "collapsed": true
   },
   "outputs": [],
   "source": [
    "mproton = 1.6726219*10**(-27)\n",
    "mneutron = 1.674929*10**(-27)\n",
    "melectron = 9.109390*10**(-31)"
   ]
  },
  {
   "cell_type": "code",
   "execution_count": 84,
   "metadata": {
    "collapsed": true
   },
   "outputs": [],
   "source": [
    "def mu(me,mn):\n",
    "    x= mn*me/(me+mn)\n",
    "    return x"
   ]
  },
  {
   "cell_type": "code",
   "execution_count": 85,
   "metadata": {
    "collapsed": true
   },
   "outputs": [],
   "source": [
    "def wavelength(mu,n1,n2):\n",
    "    R = 1/912\n",
    "    x = R*mu*(1/(n1**2) - 1/(n2**2))/melectron\n",
    "    return 1/x"
   ]
  },
  {
   "cell_type": "code",
   "execution_count": 86,
   "metadata": {},
   "outputs": [
    {
     "data": {
      "text/plain": [
       "4866.649019061631"
      ]
     },
     "execution_count": 86,
     "metadata": {},
     "output_type": "execute_result"
    }
   ],
   "source": [
    "wavelength(mu(melectron,mproton),2,4)"
   ]
  },
  {
   "cell_type": "code",
   "execution_count": 87,
   "metadata": {},
   "outputs": [
    {
     "data": {
      "text/plain": [
       "4865.323596691539"
      ]
     },
     "execution_count": 87,
     "metadata": {},
     "output_type": "execute_result"
    }
   ],
   "source": [
    "wavelength(mu(melectron,mproton+mneutron),2,4)"
   ]
  },
  {
   "cell_type": "code",
   "execution_count": 88,
   "metadata": {},
   "outputs": [
    {
     "data": {
      "text/plain": [
       "-1.325422370092383"
      ]
     },
     "execution_count": 88,
     "metadata": {},
     "output_type": "execute_result"
    }
   ],
   "source": [
    "wavelength(mu(melectron,mproton+mneutron),2,4) - wavelength(mu(melectron,mproton),2,4)"
   ]
  },
  {
   "cell_type": "code",
   "execution_count": 89,
   "metadata": {},
   "outputs": [
    {
     "name": "stderr",
     "output_type": "stream",
     "text": [
      "/usr/local/lib/python3.5/dist-packages/ipykernel_launcher.py:4: RuntimeWarning: divide by zero encountered in double_scalars\n",
      "  after removing the cwd from sys.path.\n"
     ]
    }
   ],
   "source": [
    "n = np.linspace(1,9,9)\n",
    "Balmer = [wavelength(mu(melectron,mproton),2,k) for k in n]"
   ]
  },
  {
   "cell_type": "code",
   "execution_count": 90,
   "metadata": {},
   "outputs": [
    {
     "data": {
      "text/plain": [
       "[-1216.6622547654079,\n",
       " inf,\n",
       " 6569.976175733203,\n",
       " 4866.649019061631,\n",
       " 4345.222338447886,\n",
       " 4106.235109833252,\n",
       " 3974.4300322336658,\n",
       " 3893.3192152493048,\n",
       " 3839.5964663375858]"
      ]
     },
     "execution_count": 90,
     "metadata": {},
     "output_type": "execute_result"
    }
   ],
   "source": [
    "Balmer"
   ]
  },
  {
   "cell_type": "code",
   "execution_count": 91,
   "metadata": {},
   "outputs": [
    {
     "name": "stderr",
     "output_type": "stream",
     "text": [
      "/usr/local/lib/python3.5/dist-packages/ipykernel_launcher.py:4: RuntimeWarning: divide by zero encountered in double_scalars\n",
      "  after removing the cwd from sys.path.\n"
     ]
    }
   ],
   "source": [
    "muD = mu(melectron,melectron+mproton)\n",
    "n = np.linspace(1,9,9)\n",
    "BalmerD = [wavelength(muD,2,k) for k in n]"
   ]
  },
  {
   "cell_type": "code",
   "execution_count": 92,
   "metadata": {},
   "outputs": [
    {
     "data": {
      "text/plain": [
       "[-1216.6618942862583,\n",
       " inf,\n",
       " 6569.974229145795,\n",
       " 4866.647577145033,\n",
       " 4345.221051022351,\n",
       " 4106.233893216122,\n",
       " 3974.4288546684434,\n",
       " 3893.3180617160274,\n",
       " 3839.5953287215684]"
      ]
     },
     "execution_count": 92,
     "metadata": {},
     "output_type": "execute_result"
    }
   ],
   "source": [
    "BalmerD"
   ]
  },
  {
   "cell_type": "code",
   "execution_count": null,
   "metadata": {
    "collapsed": true
   },
   "outputs": [],
   "source": []
  },
  {
   "cell_type": "code",
   "execution_count": 93,
   "metadata": {},
   "outputs": [
    {
     "data": {
      "text/plain": [
       "[-1216.6618942862583,\n",
       " inf,\n",
       " 6569.974229145795,\n",
       " 4866.647577145033,\n",
       " 4345.221051022351,\n",
       " 4106.233893216122,\n",
       " 3974.4288546684434,\n",
       " 3893.3180617160274,\n",
       " 3839.5953287215684]"
      ]
     },
     "execution_count": 93,
     "metadata": {},
     "output_type": "execute_result"
    }
   ],
   "source": [
    "BalmerD"
   ]
  },
  {
   "cell_type": "code",
   "execution_count": 94,
   "metadata": {},
   "outputs": [
    {
     "name": "stderr",
     "output_type": "stream",
     "text": [
      "/usr/local/lib/python3.5/dist-packages/ipykernel_launcher.py:1: RuntimeWarning: invalid value encountered in double_scalars\n",
      "  \"\"\"Entry point for launching an IPython kernel.\n"
     ]
    }
   ],
   "source": [
    "diff = [x - y for x,y in zip(Balmer,BalmerD)]"
   ]
  },
  {
   "cell_type": "code",
   "execution_count": 95,
   "metadata": {},
   "outputs": [
    {
     "data": {
      "text/plain": [
       "[-0.00036047914954906446,\n",
       " nan,\n",
       " 0.0019465874074739986,\n",
       " 0.0014419165981962578,\n",
       " 0.0012874255344286212,\n",
       " 0.0012166171300123096,\n",
       " 0.001177565222405974,\n",
       " 0.0011535332773746632,\n",
       " 0.001137616017331311]"
      ]
     },
     "execution_count": 95,
     "metadata": {},
     "output_type": "execute_result"
    }
   ],
   "source": [
    "diff"
   ]
  },
  {
   "cell_type": "markdown",
   "metadata": {},
   "source": [
    "Exercise 5: \n",
    "We will do calibration measurement. It is better to do tis doublet measurement with larger wavelength aso the spacing is more visible and easy to calibtrate. Trying to find double with poor resolution spectrometery would make this very difficult."
   ]
  },
  {
   "cell_type": "markdown",
   "metadata": {},
   "source": [
    "Exercie 6: It is better because the speed at which the motor revoloves may be different inother directions. Al;so, it is good to have consistency as there may be some mechanical anomaly that could disrupt the system. If the error is propogated in the same direction it is possible to get a good idea of what the error might be."
   ]
  },
  {
   "cell_type": "markdown",
   "metadata": {},
   "source": [
    "Exercise 7: With larger slit size, we allow more unfocused light which could contribute noise from non signal light sources such as lamps, sun etc. Further Having a very large slit size would allow a solid angle such that the incming light could interact with other components that it should not, disrupting the system,"
   ]
  },
  {
   "cell_type": "markdown",
   "metadata": {},
   "source": [
    "Exercise 8 :"
   ]
  },
  {
   "cell_type": "code",
   "execution_count": null,
   "metadata": {
    "collapsed": true
   },
   "outputs": [],
   "source": []
  }
 ],
 "metadata": {
  "kernelspec": {
   "display_name": "Python 2",
   "language": "python",
   "name": "python2"
  },
  "language_info": {
   "codemirror_mode": {
    "name": "ipython",
    "version": 2
   },
   "file_extension": ".py",
   "mimetype": "text/x-python",
   "name": "python",
   "nbconvert_exporter": "python",
   "pygments_lexer": "ipython2",
   "version": "2.7.13"
  }
 },
 "nbformat": 4,
 "nbformat_minor": 2
}
