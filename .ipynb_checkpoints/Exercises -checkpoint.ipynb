{
 "cells": [
  {
   "cell_type": "code",
   "execution_count": 2,
   "metadata": {
    "collapsed": true
   },
   "outputs": [],
   "source": [
    "from math import pi\n",
    "\n",
    "k=8.99e9\n",
    "e=1.60e-19\n",
    "m_e=9.11e-31\n",
    "m_p=1.6726219e-27\n",
    "h=6.63e-34\n",
    "c=299792485"
   ]
  },
  {
   "cell_type": "code",
   "execution_count": 3,
   "metadata": {},
   "outputs": [
    {
     "name": "stdout",
     "output_type": "stream",
     "text": [
      "0.00121262470831\n"
     ]
    }
   ],
   "source": [
    "# does not match known value... fix\n",
    "Ry=(k*(e**4)*m_e*2*(pi**2)/((h**3)*c))\n",
    "print Ry"
   ]
  },
  {
   "cell_type": "code",
   "execution_count": 4,
   "metadata": {},
   "outputs": [
    {
     "name": "stdout",
     "output_type": "stream",
     "text": [
      "9.10751977703e-31\n"
     ]
    }
   ],
   "source": [
    "#Reduced Mass\n",
    "M = 2*m_p\n",
    "mu = (m_e*M)/(m_e+M)\n",
    "print mu"
   ]
  },
  {
   "cell_type": "code",
   "execution_count": 7,
   "metadata": {},
   "outputs": [
    {
     "name": "stdout",
     "output_type": "stream",
     "text": [
      "-4.86009163095e-07\n",
      "-4.86141516482e-07\n",
      "1.32353387092e-10\n"
     ]
    }
   ],
   "source": [
    "#balmer series for hydrogen and dueterium\n",
    "Ryd=1.097373e7 #[1/m]\n",
    "\n",
    "n2=2\n",
    "n3=3\n",
    "n4=4\n",
    "n5=5\n",
    "n6=6\n",
    "n7=7\n",
    "n8=8\n",
    "Hwave= (Ryd*((1.0/n4**2)-(1.0/n2**2)))**(-1)\n",
    "print Hwave\n",
    "Dwave= ((mu/m_e)*Ryd*((1.0/n4**2)-(1.0/n2**2)))**(-1)\n",
    "print Dwave\n",
    "print Hwave - Dwave"
   ]
  },
  {
   "cell_type": "code",
   "execution_count": null,
   "metadata": {
    "collapsed": true
   },
   "outputs": [],
   "source": []
  }
 ],
 "metadata": {
  "kernelspec": {
   "display_name": "Python 2",
   "language": "python",
   "name": "python2"
  },
  "language_info": {
   "codemirror_mode": {
    "name": "ipython",
    "version": 2
   },
   "file_extension": ".py",
   "mimetype": "text/x-python",
   "name": "python",
   "nbconvert_exporter": "python",
   "pygments_lexer": "ipython2",
   "version": "2.7.13"
  }
 },
 "nbformat": 4,
 "nbformat_minor": 2
}
